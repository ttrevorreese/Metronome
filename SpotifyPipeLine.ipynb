{
  "cells": [
    {
      "cell_type": "code",
      "execution_count": 2,
      "metadata": {},
      "outputs": [
        {
          "name": "stdout",
          "output_type": "stream",
          "text": [
            "Collecting tabulate\n",
            "  Downloading tabulate-0.9.0-py3-none-any.whl (35 kB)\n",
            "Installing collected packages: tabulate\n",
            "Successfully installed tabulate-0.9.0\n",
            "\n",
            "\u001b[1m[\u001b[0m\u001b[34;49mnotice\u001b[0m\u001b[1;39;49m]\u001b[0m\u001b[39;49m A new release of pip is available: \u001b[0m\u001b[31;49m23.0\u001b[0m\u001b[39;49m -> \u001b[0m\u001b[32;49m23.0.1\u001b[0m\n",
            "\u001b[1m[\u001b[0m\u001b[34;49mnotice\u001b[0m\u001b[1;39;49m]\u001b[0m\u001b[39;49m To update, run: \u001b[0m\u001b[32;49mpip install --upgrade pip\u001b[0m\n"
          ]
        }
      ],
      "source": [
        "!pip install tabulate\n"
      ]
    },
    {
      "cell_type": "code",
      "execution_count": 3,
      "metadata": {
        "colab": {
          "base_uri": "https://localhost:8080/",
          "height": 711
        },
        "id": "O8dJN-C_0mSi",
        "outputId": "8c49c565-b41d-400b-8edd-21045dda53d8"
      },
      "outputs": [
        {
          "name": "stdout",
          "output_type": "stream",
          "text": [
            "+----+-------------+-----------------+--------------------------+-------------+\n",
            "|    | song_name   | artist_names    | played_at                | timestamp   |\n",
            "|----+-------------+-----------------+--------------------------+-------------|\n",
            "|  0 | Die For You | The Weeknd      | 2023-03-02T10:21:18.436Z | 2023-03-02  |\n",
            "|  1 | Die For You | The Weeknd      | 2023-03-02T10:14:15.859Z | 2023-03-02  |\n",
            "|  2 | Darmiyaan   | Salim–Sulaiman  | 2023-03-01T23:07:44.852Z | 2023-03-01  |\n",
            "|  3 | Darmiyaan   | Salim–Sulaiman  | 2023-03-01T21:10:30.685Z | 2023-03-01  |\n",
            "|  4 | Darmiyaan   | Salim–Sulaiman  | 2023-03-01T21:04:36.679Z | 2023-03-01  |\n",
            "|  5 | Zaroori Tha | Chainroop Swami | 2023-03-01T15:44:51.971Z | 2023-03-01  |\n",
            "+----+-------------+-----------------+--------------------------+-------------+\n"
          ]
        },
        {
          "ename": "Exception",
          "evalue": "One of the values was not in the time constraint",
          "output_type": "error",
          "traceback": [
            "\u001b[0;31m---------------------------------------------------------------------------\u001b[0m",
            "\u001b[0;31mException\u001b[0m                                 Traceback (most recent call last)",
            "\u001b[0;32m/var/folders/kj/m4hqsg9920j51jd0svc1pfsr0000gn/T/ipykernel_26814/1589840676.py\u001b[0m in \u001b[0;36m<module>\u001b[0;34m\u001b[0m\n\u001b[1;32m     91\u001b[0m \u001b[0;31m#validate\u001b[0m\u001b[0;34m\u001b[0m\u001b[0;34m\u001b[0m\u001b[0m\n\u001b[1;32m     92\u001b[0m \u001b[0;34m\u001b[0m\u001b[0m\n\u001b[0;32m---> 93\u001b[0;31m \u001b[0;32mif\u001b[0m \u001b[0mcheck_if_valid_data\u001b[0m\u001b[0;34m(\u001b[0m\u001b[0msong_df\u001b[0m\u001b[0;34m)\u001b[0m\u001b[0;34m:\u001b[0m\u001b[0;34m\u001b[0m\u001b[0;34m\u001b[0m\u001b[0m\n\u001b[0m\u001b[1;32m     94\u001b[0m   \u001b[0mprint\u001b[0m\u001b[0;34m(\u001b[0m\u001b[0;34m\"Data Valid, proceed to loading stage\"\u001b[0m\u001b[0;34m)\u001b[0m\u001b[0;34m\u001b[0m\u001b[0;34m\u001b[0m\u001b[0m\n\u001b[1;32m     95\u001b[0m \u001b[0;34m\u001b[0m\u001b[0m\n",
            "\u001b[0;32m/var/folders/kj/m4hqsg9920j51jd0svc1pfsr0000gn/T/ipykernel_26814/1589840676.py\u001b[0m in \u001b[0;36mcheck_if_valid_data\u001b[0;34m(df)\u001b[0m\n\u001b[1;32m     39\u001b[0m   \u001b[0;32mfor\u001b[0m \u001b[0mtimestamp\u001b[0m \u001b[0;32min\u001b[0m \u001b[0mtimestamps\u001b[0m\u001b[0;34m:\u001b[0m\u001b[0;34m\u001b[0m\u001b[0;34m\u001b[0m\u001b[0m\n\u001b[1;32m     40\u001b[0m     \u001b[0;32mif\u001b[0m \u001b[0mdatetime\u001b[0m\u001b[0;34m.\u001b[0m\u001b[0mdatetime\u001b[0m\u001b[0;34m.\u001b[0m\u001b[0mstrptime\u001b[0m\u001b[0;34m(\u001b[0m\u001b[0mtimestamp\u001b[0m\u001b[0;34m,\u001b[0m \u001b[0;34m\"%Y-%m-%d\"\u001b[0m\u001b[0;34m)\u001b[0m \u001b[0;34m!=\u001b[0m \u001b[0myesterday\u001b[0m\u001b[0;34m:\u001b[0m\u001b[0;34m\u001b[0m\u001b[0;34m\u001b[0m\u001b[0m\n\u001b[0;32m---> 41\u001b[0;31m       \u001b[0;32mraise\u001b[0m \u001b[0mException\u001b[0m\u001b[0;34m(\u001b[0m\u001b[0;34m\"One of the values was not in the time constraint\"\u001b[0m\u001b[0;34m)\u001b[0m\u001b[0;34m\u001b[0m\u001b[0;34m\u001b[0m\u001b[0m\n\u001b[0m\u001b[1;32m     42\u001b[0m \u001b[0;34m\u001b[0m\u001b[0m\n\u001b[1;32m     43\u001b[0m   \u001b[0;32mreturn\u001b[0m \u001b[0;32mTrue\u001b[0m\u001b[0;34m\u001b[0m\u001b[0;34m\u001b[0m\u001b[0m\n",
            "\u001b[0;31mException\u001b[0m: One of the values was not in the time constraint"
          ]
        }
      ],
      "source": [
        "import sqlalchemy\n",
        "import pandas as pd\n",
        "from sqlalchemy.orm import sessionmaker\n",
        "import requests\n",
        "import json\n",
        "from datetime import datetime\n",
        "import datetime \n",
        "import sqlite3\n",
        "\n",
        "DATABASE_LOCATION = \"sqlite://my_played_tracks.sqlite\"\n",
        "USER_ID = \"lowriem\"\n",
        "\n",
        "####  PRINT OF A NEW TOKEN EVERY FEW MINTUES AS THEY EXPIRE AT THE FOLLOWING URL: https://developer.spotify.com/console/get-recently-played/?limit=10&after=1596299315000&before=\n",
        "TOKEN = \"BQAwc_h023sT4AH4db1E907VKIz9f1dmExbKEa91QaRvHgf_fQpkwdlOVukcl9Nnm2Cx_McVieTe9Lm7qyVdddbZppk0133qAhSDUWdmRbIRv46dRw9c-3GLzkmJwmZYWEFeHSlpCYR2WJIKb1huswD0wQPy9W5AwsDizKELhFn9XqyPMDMrA0P9q950YGodPG2dFhqemA\"\n",
        "\n",
        "\n",
        "\n",
        "def check_if_valid_data(df: pd.DataFrame) -> bool:\n",
        "\n",
        "  if df.empty:\n",
        "    print(\"No songs downloaded, finishing process\")\n",
        "    return False\n",
        "\n",
        "\n",
        "  if pd.Series(df['played_at']).is_unique:\n",
        "    pass\n",
        "  else:\n",
        "    raise Exception(\"Primary Key check was violated, duplicates detected\")\n",
        "\n",
        "\n",
        "  if df.isnull().values.any():\n",
        "    raise Exception(\"Null value found. Terminated\")\n",
        "\n",
        "\n",
        "  yesterday = datetime.datetime.now() - datetime.timedelta(days=1)\n",
        "  yesterday = yesterday.replace(hour = 0, minute = 0, second = 0, microsecond = 0)\n",
        "\n",
        "  timestamps = df[\"timestamp\"].tolist()\n",
        "  for timestamp in timestamps:\n",
        "    if datetime.datetime.strptime(timestamp, \"%Y-%m-%d\") != yesterday:\n",
        "      raise Exception(\"One of the values was not in the time constraint\")\n",
        "\n",
        "  return True\n",
        "\n",
        "\n",
        "if __name__ == \"__main__\":\n",
        "  headers = {\n",
        "      \"Accept\" : \"application/json\",\n",
        "      \"Content-Type\" : \"application/json\",\n",
        "      \"Authorization\" : \"Bearer {token}\".format(token=TOKEN)\n",
        "  }\n",
        "\n",
        "\n",
        "  today = datetime.datetime.now()\n",
        "  yesterday = today - datetime.timedelta(days=1)\n",
        "  yesterday_unix_timestamp = int(yesterday.timestamp()) * 1000\n",
        "\n",
        "  r = requests.get(\"https://api.spotify.com/v1/me/player/recently-played?after={time}\".format(time = yesterday_unix_timestamp), headers = headers)\n",
        "\n",
        "  data = r.json()\n",
        "\n",
        "  song_names =[]\n",
        "  artist_names = []\n",
        "  played_at_list = []\n",
        "  timestamps = []\n",
        "\n",
        "  for song in data[\"items\"]:\n",
        "        song_names.append(song[\"track\"][\"name\"])\n",
        "        artist_names.append(song[\"track\"][\"album\"][\"artists\"][0][\"name\"])\n",
        "        played_at_list.append(song[\"played_at\"])\n",
        "        timestamps.append(song[\"played_at\"][0:10])\n",
        "  \n",
        "  song_dict = {\n",
        "      \"song_name\" : song_names,\n",
        "      \"artist_names\" : artist_names,\n",
        "      \"played_at\" : played_at_list,\n",
        "      \"timestamp\" : timestamps\n",
        "  }\n",
        "  song_df = pd.DataFrame(song_dict, columns = [\"song_name\", \"artist_names\", \"played_at\", \"timestamp\"])\n",
        "\n",
        "\n",
        "\n",
        "from tabulate import tabulate\n",
        "\n",
        "\n",
        "\n",
        "\n",
        "print(tabulate(song_df, headers='keys', tablefmt='psql'))\n",
        "\n",
        "\n",
        "#validate\n",
        "\n",
        "if check_if_valid_data(song_df):\n",
        "  print(\"Data Valid, proceed to loading stage\")\n",
        "\n",
        "\n",
        "#load\n",
        "engine = sqlalchemy.create_engine(DATABASE_LOCATION)\n",
        "conn = sqlite3.connect(\"my_played_traks.sqlite\")\n",
        "cursor = conn.cursor()\n",
        "\n",
        "sql_query = \"\"\"\n",
        "CREATE TABLE IF NOT EXISTS my_played_tracks(\n",
        "  song_name VARCHAR(200),\n",
        "  artist_name VARCHAR(200),\n",
        "  played_at VARCHAR(200),\n",
        "  timestamp VARCHAR(200),\n",
        "  CONSTRAINT primary_key_constraint PRIMARY KEY (played_at)\n",
        ")\n",
        "\n",
        "\"\"\"\n",
        "\n",
        "cursor.execute(sql_query)\n",
        "print(\"Opened database successfully\")\n",
        "\n",
        "try:\n",
        "    song_df.to_sql(\"my_played_tracks\", engine, index=False, if_exists='append')\n",
        "except:\n",
        "    print(\"Data already exists in the database\")\n",
        "\n",
        "conn.close()\n",
        "print(\"Close database successfully\")\n"
      ]
    },
    {
      "cell_type": "code",
      "execution_count": 1,
      "metadata": {},
      "outputs": [
        {
          "name": "stdout",
          "output_type": "stream",
          "text": [
            "Requirement already satisfied: ipykernel in /Users/sayeedyahya/opt/anaconda3/lib/python3.9/site-packages (6.4.1)\n",
            "Requirement already satisfied: debugpy<2.0,>=1.0.0 in /Users/sayeedyahya/opt/anaconda3/lib/python3.9/site-packages (from ipykernel) (1.4.1)\n",
            "Requirement already satisfied: ipython-genutils in /Users/sayeedyahya/opt/anaconda3/lib/python3.9/site-packages (from ipykernel) (0.2.0)\n",
            "Requirement already satisfied: traitlets<6.0,>=4.1.0 in /Users/sayeedyahya/opt/anaconda3/lib/python3.9/site-packages (from ipykernel) (5.1.0)\n",
            "Requirement already satisfied: ipython<8.0,>=7.23.1 in /Users/sayeedyahya/opt/anaconda3/lib/python3.9/site-packages (from ipykernel) (7.29.0)\n",
            "Requirement already satisfied: appnope in /Users/sayeedyahya/opt/anaconda3/lib/python3.9/site-packages (from ipykernel) (0.1.2)\n",
            "Requirement already satisfied: jupyter-client<8.0 in /Users/sayeedyahya/opt/anaconda3/lib/python3.9/site-packages (from ipykernel) (6.1.12)\n",
            "Requirement already satisfied: matplotlib-inline<0.2.0,>=0.1.0 in /Users/sayeedyahya/opt/anaconda3/lib/python3.9/site-packages (from ipykernel) (0.1.2)\n",
            "Requirement already satisfied: tornado<7.0,>=4.2 in /Users/sayeedyahya/opt/anaconda3/lib/python3.9/site-packages (from ipykernel) (6.1)\n",
            "Requirement already satisfied: pexpect>4.3 in /Users/sayeedyahya/opt/anaconda3/lib/python3.9/site-packages (from ipython<8.0,>=7.23.1->ipykernel) (4.8.0)\n",
            "Requirement already satisfied: setuptools>=18.5 in /Users/sayeedyahya/opt/anaconda3/lib/python3.9/site-packages (from ipython<8.0,>=7.23.1->ipykernel) (58.0.4)\n",
            "Requirement already satisfied: jedi>=0.16 in /Users/sayeedyahya/opt/anaconda3/lib/python3.9/site-packages (from ipython<8.0,>=7.23.1->ipykernel) (0.18.0)\n",
            "Requirement already satisfied: prompt-toolkit!=3.0.0,!=3.0.1,<3.1.0,>=2.0.0 in /Users/sayeedyahya/opt/anaconda3/lib/python3.9/site-packages (from ipython<8.0,>=7.23.1->ipykernel) (3.0.20)\n",
            "Requirement already satisfied: backcall in /Users/sayeedyahya/opt/anaconda3/lib/python3.9/site-packages (from ipython<8.0,>=7.23.1->ipykernel) (0.2.0)\n",
            "Requirement already satisfied: decorator in /Users/sayeedyahya/opt/anaconda3/lib/python3.9/site-packages (from ipython<8.0,>=7.23.1->ipykernel) (5.1.0)\n",
            "Requirement already satisfied: pickleshare in /Users/sayeedyahya/opt/anaconda3/lib/python3.9/site-packages (from ipython<8.0,>=7.23.1->ipykernel) (0.7.5)\n",
            "Requirement already satisfied: pygments in /Users/sayeedyahya/opt/anaconda3/lib/python3.9/site-packages (from ipython<8.0,>=7.23.1->ipykernel) (2.10.0)\n",
            "Requirement already satisfied: jupyter-core>=4.6.0 in /Users/sayeedyahya/opt/anaconda3/lib/python3.9/site-packages (from jupyter-client<8.0->ipykernel) (4.8.1)\n",
            "Requirement already satisfied: python-dateutil>=2.1 in /Users/sayeedyahya/opt/anaconda3/lib/python3.9/site-packages (from jupyter-client<8.0->ipykernel) (2.8.2)\n",
            "Requirement already satisfied: pyzmq>=13 in /Users/sayeedyahya/opt/anaconda3/lib/python3.9/site-packages (from jupyter-client<8.0->ipykernel) (22.2.1)\n",
            "Requirement already satisfied: parso<0.9.0,>=0.8.0 in /Users/sayeedyahya/opt/anaconda3/lib/python3.9/site-packages (from jedi>=0.16->ipython<8.0,>=7.23.1->ipykernel) (0.8.2)\n",
            "Requirement already satisfied: ptyprocess>=0.5 in /Users/sayeedyahya/opt/anaconda3/lib/python3.9/site-packages (from pexpect>4.3->ipython<8.0,>=7.23.1->ipykernel) (0.7.0)\n",
            "Requirement already satisfied: wcwidth in /Users/sayeedyahya/opt/anaconda3/lib/python3.9/site-packages (from prompt-toolkit!=3.0.0,!=3.0.1,<3.1.0,>=2.0.0->ipython<8.0,>=7.23.1->ipykernel) (0.2.5)\n",
            "Requirement already satisfied: six>=1.5 in /Users/sayeedyahya/opt/anaconda3/lib/python3.9/site-packages (from python-dateutil>=2.1->jupyter-client<8.0->ipykernel) (1.16.0)\n",
            "\n",
            "\u001b[1m[\u001b[0m\u001b[34;49mnotice\u001b[0m\u001b[1;39;49m]\u001b[0m\u001b[39;49m A new release of pip is available: \u001b[0m\u001b[31;49m23.0\u001b[0m\u001b[39;49m -> \u001b[0m\u001b[32;49m23.0.1\u001b[0m\n",
            "\u001b[1m[\u001b[0m\u001b[34;49mnotice\u001b[0m\u001b[1;39;49m]\u001b[0m\u001b[39;49m To update, run: \u001b[0m\u001b[32;49mpip install --upgrade pip\u001b[0m\n"
          ]
        }
      ],
      "source": [
        "!pip install ipykernel\n",
        "\n"
      ]
    }
  ],
  "metadata": {
    "colab": {
      "provenance": []
    },
    "kernelspec": {
      "display_name": "Python 3",
      "name": "python3"
    },
    "language_info": {
      "codemirror_mode": {
        "name": "ipython",
        "version": 3
      },
      "file_extension": ".py",
      "mimetype": "text/x-python",
      "name": "python",
      "nbconvert_exporter": "python",
      "pygments_lexer": "ipython3",
      "version": "3.9.7"
    }
  },
  "nbformat": 4,
  "nbformat_minor": 0
}
